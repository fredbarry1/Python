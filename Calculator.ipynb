{
  "nbformat": 4,
  "nbformat_minor": 0,
  "metadata": {
    "colab": {
      "provenance": [],
      "authorship_tag": "ABX9TyOectUhY0/rYZWzzUoqdqd2",
      "include_colab_link": true
    },
    "kernelspec": {
      "name": "python3",
      "display_name": "Python 3"
    },
    "language_info": {
      "name": "python"
    }
  },
  "cells": [
    {
      "cell_type": "markdown",
      "metadata": {
        "id": "view-in-github",
        "colab_type": "text"
      },
      "source": [
        "<a href=\"https://colab.research.google.com/github/fredbarry1/Python/blob/main/Calculator.ipynb\" target=\"_parent\"><img src=\"https://colab.research.google.com/assets/colab-badge.svg\" alt=\"Open In Colab\"/></a>"
      ]
    },
    {
      "cell_type": "code",
      "execution_count": null,
      "metadata": {
        "colab": {
          "base_uri": "https://localhost:8080/"
        },
        "id": "7w-XCZF8TqPG",
        "outputId": "8fda5904-8434-4084-d456-0898698e6be8"
      },
      "outputs": [
        {
          "output_type": "stream",
          "name": "stdout",
          "text": [
            "Enter the first number for calculation: 8\n",
            "Enter the second number for calculation: 8\n",
            "Enter desired operator (+, -, *, /, //, %, **) or simply type break to exit the calculator: *\n",
            "64.0\n",
            "Enter the first number for calculation: 5\n",
            "Enter the second number for calculation: 3\n",
            "Enter desired operator (+, -, *, /, //, %, **) or simply type break to exit the calculator: %\n",
            "2.0\n"
          ]
        }
      ],
      "source": [
        "while True:\n",
        "  a = float(input(\"Enter the first number for calculation: \"))\n",
        "  b = float(input(\"Enter the second number for calculation: \"))\n",
        "  operator = input(\"Enter desired operator (+, -, *, /, //, %, **) or simply type break to exit the calculator: \")\n",
        "  if operator == \"break\":\n",
        "      print(\"Goodbye!\")\n",
        "      break\n",
        "  if operator == \"+\":\n",
        "      print(a+b)\n",
        "  elif operator == \"-\":\n",
        "      print(a-b)\n",
        "  elif operator == \"*\":\n",
        "      print(a*b)\n",
        "  elif operator == \"/\":\n",
        "      print(a/b)\n",
        "  elif operator == \"//\":\n",
        "      print(a//b)\n",
        "  elif operator == \"%\":\n",
        "      print(a%b)\n",
        "  elif operator == \"**\":\n",
        "      print(a**b)\n",
        "  else:\n",
        "      print(\"Invalid operator: \", operator)\n",
        "      continue8\n",
        ""
      ]
    }
  ]
}