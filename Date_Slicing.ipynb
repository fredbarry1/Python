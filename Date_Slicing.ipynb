{
  "nbformat": 4,
  "nbformat_minor": 0,
  "metadata": {
    "colab": {
      "provenance": [],
      "authorship_tag": "ABX9TyNbMdnuK9Dg5iVXg25veKw4",
      "include_colab_link": true
    },
    "kernelspec": {
      "name": "python3",
      "display_name": "Python 3"
    },
    "language_info": {
      "name": "python"
    }
  },
  "cells": [
    {
      "cell_type": "markdown",
      "metadata": {
        "id": "view-in-github",
        "colab_type": "text"
      },
      "source": [
        "<a href=\"https://colab.research.google.com/github/fredbarry1/Python/blob/main/Date_Slicing.ipynb\" target=\"_parent\"><img src=\"https://colab.research.google.com/assets/colab-badge.svg\" alt=\"Open In Colab\"/></a>"
      ]
    },
    {
      "cell_type": "code",
      "execution_count": null,
      "metadata": {
        "colab": {
          "base_uri": "https://localhost:8080/"
        },
        "id": "igGpFPQPw_A8",
        "outputId": "559e6e7c-be05-42ee-f220-b22fa01137e4"
      },
      "outputs": [
        {
          "output_type": "stream",
          "name": "stdout",
          "text": [
            "Input the date in format mm/dd/yyyy02/21/2024\n",
            "02/21/2024\n",
            "month = 02\n",
            "day = 21\n",
            "year = 2024\n"
          ]
        }
      ],
      "source": [
        "x = input (\"Input the date in format mm/dd/yyyy\")\n",
        "print(x)\n",
        "s=x\n",
        "month = s[:2]\n",
        "day = s[3:5]\n",
        "year = s[6:]\n",
        "print(\"month =\",month)\n",
        "print(\"day =\",day)\n",
        "print(\"year =\",year)"
      ]
    },
    {
      "cell_type": "code",
      "source": [
        "s1='abcdefg'\n",
        "s2='abdght'\n",
        "\n",
        "for index in range(len(s1))\"\n",
        "  if \""
      ],
      "metadata": {
        "id": "cC5xTPLoHrBA"
      },
      "execution_count": null,
      "outputs": []
    },
    {
      "cell_type": "code",
      "source": [],
      "metadata": {
        "id": "BMTjWc_MHNqY"
      },
      "execution_count": null,
      "outputs": []
    },
    {
      "cell_type": "code",
      "source": [
        "x=0\n",
        "for i in range(1,-2,-1):\n",
        "  x = x+1\n",
        "print(x)"
      ],
      "metadata": {
        "colab": {
          "base_uri": "https://localhost:8080/"
        },
        "id": "KVTT6VQF2mu4",
        "outputId": "6636e270-59b6-48f0-8996-1bfcb6b2f574"
      },
      "execution_count": null,
      "outputs": [
        {
          "output_type": "stream",
          "name": "stdout",
          "text": [
            "3\n"
          ]
        }
      ]
    }
  ]
}