{
  "nbformat": 4,
  "nbformat_minor": 0,
  "metadata": {
    "colab": {
      "provenance": [],
      "authorship_tag": "ABX9TyOo1sOIAgAnSteBhYUctY17",
      "include_colab_link": true
    },
    "kernelspec": {
      "name": "python3",
      "display_name": "Python 3"
    },
    "language_info": {
      "name": "python"
    }
  },
  "cells": [
    {
      "cell_type": "markdown",
      "metadata": {
        "id": "view-in-github",
        "colab_type": "text"
      },
      "source": [
        "<a href=\"https://colab.research.google.com/github/fredbarry1/Python/blob/main/MortgagePT2.ipynb\" target=\"_parent\"><img src=\"https://colab.research.google.com/assets/colab-badge.svg\" alt=\"Open In Colab\"/></a>"
      ]
    },
    {
      "cell_type": "code",
      "execution_count": 7,
      "metadata": {
        "id": "TyR1L9TsoEYo"
      },
      "outputs": [],
      "source": [
        "class A:\n",
        "  def __init__(self,obj):\n",
        "    self.obj = obj\n",
        "\n",
        "  def whoAmI(self):\n",
        "    print('I am an instance of Class A')\n",
        "\n",
        "  def __str__(self):\n",
        "    return f\"<attribute value: {self.obj}>\"\n",
        "\n",
        "  def __eq__(self, other):\n",
        "    return self.obj == other.obj\n",
        "\n",
        "  def __add__(self,other):\n",
        "    return self.obj + other.obj\n",
        "\n",
        "class B:\n",
        "  def __init__(self,obj):\n",
        "    self.obj = obj\n",
        "\n",
        "  def whoAmI(self):\n",
        "    print('I am an instance of Class B')\n",
        "\n",
        "a1 = A(2)\n",
        "a2 = A(5)\n",
        "b = B(4)"
      ]
    },
    {
      "cell_type": "code",
      "source": [
        "b.whoAmI()"
      ],
      "metadata": {
        "colab": {
          "base_uri": "https://localhost:8080/"
        },
        "id": "EO-vCA2ooyna",
        "outputId": "d8b36564-0f55-4402-c936-3f95f695e893"
      },
      "execution_count": 8,
      "outputs": [
        {
          "output_type": "stream",
          "name": "stdout",
          "text": [
            "I am an instance of Class B\n"
          ]
        }
      ]
    }
  ]
}