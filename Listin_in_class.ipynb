{
  "nbformat": 4,
  "nbformat_minor": 0,
  "metadata": {
    "colab": {
      "provenance": [],
      "authorship_tag": "ABX9TyN0TD+Nd1sm/h86l+ACk/TE",
      "include_colab_link": true
    },
    "kernelspec": {
      "name": "python3",
      "display_name": "Python 3"
    },
    "language_info": {
      "name": "python"
    }
  },
  "cells": [
    {
      "cell_type": "markdown",
      "metadata": {
        "id": "view-in-github",
        "colab_type": "text"
      },
      "source": [
        "<a href=\"https://colab.research.google.com/github/fredbarry1/Python/blob/main/Listin_in_class.ipynb\" target=\"_parent\"><img src=\"https://colab.research.google.com/assets/colab-badge.svg\" alt=\"Open In Colab\"/></a>"
      ]
    },
    {
      "cell_type": "code",
      "source": [
        "List = []\n",
        "\n",
        "while True:\n",
        "\n",
        "  num = input(\"Enter in an integer or 0 to stop: \")\n",
        "\n",
        "  if num != 0:\n",
        "    List.append(num)\n",
        "    print(List)\n",
        "  else:\n",
        "    print(List)\n",
        "    break\n"
      ],
      "metadata": {
        "id": "fpuvo1TVXlFc"
      },
      "execution_count": null,
      "outputs": []
    }
  ]
}