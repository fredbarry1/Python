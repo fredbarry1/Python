{
  "nbformat": 4,
  "nbformat_minor": 0,
  "metadata": {
    "colab": {
      "provenance": [],
      "authorship_tag": "ABX9TyOJkLB23AGO52oV46vtbkOO",
      "include_colab_link": true
    },
    "kernelspec": {
      "name": "python3",
      "display_name": "Python 3"
    },
    "language_info": {
      "name": "python"
    }
  },
  "cells": [
    {
      "cell_type": "markdown",
      "metadata": {
        "id": "view-in-github",
        "colab_type": "text"
      },
      "source": [
        "<a href=\"https://colab.research.google.com/github/fredbarry1/Python/blob/main/Parking_Charge.ipynb\" target=\"_parent\"><img src=\"https://colab.research.google.com/assets/colab-badge.svg\" alt=\"Open In Colab\"/></a>"
      ]
    },
    {
      "cell_type": "code",
      "source": [
        "fixed = 5\n",
        "variable_rate = 2.5\n",
        "\n",
        "for time in range(1,9,1):\n",
        "  totalCharge = variable_rate*time+fixed\n",
        "  if totalCharge < 10.0:\n",
        "    totalCharge = 10.0\n",
        "  elif totalCharge > 20.0:\n",
        "    totalCharge = 20.0\n",
        "\n",
        "  print(time, totalCharge)"
      ],
      "metadata": {
        "id": "moYN5wMByptE",
        "outputId": "81b861a7-e56b-4ae5-a35b-d9a6ce3bf147",
        "colab": {
          "base_uri": "https://localhost:8080/"
        }
      },
      "execution_count": 3,
      "outputs": [
        {
          "output_type": "stream",
          "name": "stdout",
          "text": [
            "1 10.0\n",
            "2 10.0\n",
            "3 12.5\n",
            "4 15.0\n",
            "5 17.5\n",
            "6 20.0\n",
            "7 20.0\n",
            "8 20.0\n"
          ]
        }
      ]
    }
  ]
}