{
  "nbformat": 4,
  "nbformat_minor": 0,
  "metadata": {
    "colab": {
      "provenance": [],
      "authorship_tag": "ABX9TyPmsIQvRZVapXHBeCjrMh8O",
      "include_colab_link": true
    },
    "kernelspec": {
      "name": "python3",
      "display_name": "Python 3"
    },
    "language_info": {
      "name": "python"
    }
  },
  "cells": [
    {
      "cell_type": "markdown",
      "metadata": {
        "id": "view-in-github",
        "colab_type": "text"
      },
      "source": [
        "<a href=\"https://colab.research.google.com/github/fredbarry1/Python/blob/main/RockPaperScissorsGame.ipynb\" target=\"_parent\"><img src=\"https://colab.research.google.com/assets/colab-badge.svg\" alt=\"Open In Colab\"/></a>"
      ]
    },
    {
      "cell_type": "code",
      "execution_count": null,
      "metadata": {
        "colab": {
          "base_uri": "https://localhost:8080/"
        },
        "id": "PrFXqpfu3VW1",
        "outputId": "5394d570-7af9-4a89-c4d1-1003161551e8"
      },
      "outputs": [
        {
          "output_type": "stream",
          "name": "stdout",
          "text": [
            "Choose Rock, Paper or Scissorsrock\n",
            "rock\n",
            "Tie\n"
          ]
        }
      ],
      "source": [
        "import random\n",
        "pc_choice = random.choice(['rock','paper','scissors'])\n",
        "\n",
        "user_choice = input('Choose Rock, Paper or Scissors')\n",
        "print(user_choice)\n",
        "\n",
        "if user_choice == pc_choice:\n",
        "  print(\"Tie\")\n",
        "elif user_choice == 'rock' and  pc_choice == 'scissors'or user_choice == 'paper' and  pc_choice == 'rock' or user_choice == 'scissors' and  pc_choice == 'paper':\n",
        "  print(\"User Wins\")\n",
        "else:\n",
        "  print(\"PC Wins\")\n",
        "\n"
      ]
    }
  ]
}