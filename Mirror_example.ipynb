{
  "nbformat": 4,
  "nbformat_minor": 0,
  "metadata": {
    "colab": {
      "provenance": [],
      "authorship_tag": "ABX9TyPfPU26SukIMVxNN26ZHSi7",
      "include_colab_link": true
    },
    "kernelspec": {
      "name": "python3",
      "display_name": "Python 3"
    },
    "language_info": {
      "name": "python"
    }
  },
  "cells": [
    {
      "cell_type": "markdown",
      "metadata": {
        "id": "view-in-github",
        "colab_type": "text"
      },
      "source": [
        "<a href=\"https://colab.research.google.com/github/fredbarry1/Python/blob/main/Mirror_example.ipynb\" target=\"_parent\"><img src=\"https://colab.research.google.com/assets/colab-badge.svg\" alt=\"Open In Colab\"/></a>"
      ]
    },
    {
      "cell_type": "code",
      "execution_count": null,
      "metadata": {
        "id": "yt3wKW5WmGcn"
      },
      "outputs": [],
      "source": [
        "def mirrorString(s):\n",
        "  if len (s) ==1:\n",
        "    return s\n",
        "  else:\n",
        "      return s[-1] + mirrorString(s[:-1])\n",
        "\n",
        "mirrorString(\"string\")"
      ]
    }
  ]
}